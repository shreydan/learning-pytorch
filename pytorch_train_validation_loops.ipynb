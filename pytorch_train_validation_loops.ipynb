{
  "nbformat": 4,
  "nbformat_minor": 0,
  "metadata": {
    "colab": {
      "name": "pytorch_train_validation_loops.ipynb",
      "provenance": [],
      "authorship_tag": "ABX9TyPq9jKiysK0eKVGWaZ6ICbV"
    },
    "kernelspec": {
      "name": "python3",
      "display_name": "Python 3"
    },
    "language_info": {
      "name": "python"
    }
  },
  "cells": [
    {
      "cell_type": "markdown",
      "source": [
        "# Pytorch training and validation loops"
      ],
      "metadata": {
        "id": "wnvC0vsKVfgl"
      }
    },
    {
      "cell_type": "code",
      "execution_count": 1,
      "metadata": {
        "id": "lsGOLExDVXYh"
      },
      "outputs": [],
      "source": [
        "import torch"
      ]
    },
    {
      "cell_type": "markdown",
      "source": [
        "## Train loop"
      ],
      "metadata": {
        "id": "3TNHFuGcYAcX"
      }
    },
    {
      "cell_type": "code",
      "source": [
        "def train_one_step(model, data, optimizer):\n",
        "    optimizer.zero_grad()\n",
        "    loss = model(**data) # unpacking if each item is a dict\n",
        "    # loss = model(x=data['sample'], y=data['target']) if forward func keys don't match\n",
        "    loss.backward()\n",
        "    optimizer.step()\n",
        "    return loss\n"
      ],
      "metadata": {
        "id": "6g-piyvyWOtC"
      },
      "execution_count": null,
      "outputs": []
    },
    {
      "cell_type": "code",
      "source": [
        "def train_one_epoch(model, data_loader, optimizer, scheduler):\n",
        "    model.train()\n",
        "    total_loss = 0\n",
        "    for batch_index, data in enumerate(data_loader):\n",
        "        loss = train_one_step(model, data, optimizer)\n",
        "        # scheduler changes learning rate by various methods\n",
        "        # scheduler can be placed at any step, depends on scheduler\n",
        "        scheduler.step() \n",
        "        total_loss += loss\n",
        "\n",
        "    return total_loss\n"
      ],
      "metadata": {
        "id": "uNcsQ4VHVnkM"
      },
      "execution_count": null,
      "outputs": []
    },
    {
      "cell_type": "markdown",
      "source": [
        "## Validation loop"
      ],
      "metadata": {
        "id": "ZNogX0g_YDHb"
      }
    },
    {
      "cell_type": "code",
      "source": [
        "def validate_one_step(model, data):\n",
        "    loss = model(**data) # unpacking if each item is a dict\n",
        "    # loss = model(x=data['sample'], y=data['target']) if forward func keys don't match\n",
        "    return loss"
      ],
      "metadata": {
        "id": "SC-bKjbJX1_8"
      },
      "execution_count": null,
      "outputs": []
    },
    {
      "cell_type": "code",
      "source": [
        "def validate_one_epoch(model, data_loader):\n",
        "    model.eval()\n",
        "    total_loss = 0\n",
        "    for batch_index, data in enumerate(data_loader):\n",
        "        loss = validate_one_step(model, data)\n",
        "        total_loss += loss\n",
        "\n",
        "    return total_loss"
      ],
      "metadata": {
        "id": "KCIs-kj1XtPM"
      },
      "execution_count": null,
      "outputs": []
    }
  ]
}