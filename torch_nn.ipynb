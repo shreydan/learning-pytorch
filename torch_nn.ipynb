{
  "nbformat": 4,
  "nbformat_minor": 0,
  "metadata": {
    "colab": {
      "name": "torch_nn.ipynb",
      "provenance": [],
      "authorship_tag": "ABX9TyNKvyvBJKkjks2fqZsSvCZx"
    },
    "kernelspec": {
      "name": "python3",
      "display_name": "Python 3"
    },
    "language_info": {
      "name": "python"
    }
  },
  "cells": [
    {
      "cell_type": "markdown",
      "source": [
        "## Modules\n",
        "\n",
        "- Module -- base class for all nn models\n",
        "- Sequential \n",
        "- ModuleList\n",
        "- ModuleDict"
      ],
      "metadata": {
        "id": "C5exsijWYwdc"
      }
    },
    {
      "cell_type": "markdown",
      "source": [
        "## Layers\n",
        "\n",
        "- Conv1d, Conv2d\n",
        "- MaxPool1d, 2d\n",
        "- AvgPool1d, 2d\n",
        "- BatchNorm1d, 2d\n",
        "- LayerNorm\n",
        "- LSTM\n",
        "- GRU\n",
        "- Linear\n",
        "- Dropout\n",
        "- Embedding\n",
        "- Transformer"
      ],
      "metadata": {
        "id": "r-RcXjSxZK6_"
      }
    },
    {
      "cell_type": "code",
      "source": [
        "import torch\n",
        "import torch.nn as nn"
      ],
      "metadata": {
        "id": "IxTBAhbfYv80"
      },
      "execution_count": 2,
      "outputs": []
    },
    {
      "cell_type": "code",
      "source": [
        "class Model(nn.Module):\n",
        "\n",
        "    def __init__(self):\n",
        "        super().__init__()\n",
        "        # in init we define the layers!\n",
        "        # for each layer: input, output\n",
        "\n",
        "        self.layer1 = nn.Linear(128,32)\n",
        "        self.layer2 = nn.Linear(32,16)\n",
        "        self.layer3 = nn.Linear(16,1)\n",
        "\n",
        "    def forward(self, features): \n",
        "\n",
        "        x = self.layer1(features)\n",
        "        x = self.layer2(x)\n",
        "        x = self.layer3(x)\n",
        "\n",
        "        return x"
      ],
      "metadata": {
        "id": "-xaJAB3UY8uM"
      },
      "execution_count": 4,
      "outputs": []
    },
    {
      "cell_type": "code",
      "source": [
        "model = Model() # initialize\n",
        "\n",
        "features = torch.rand((2,128)) # samples X features\n",
        "\n",
        "model(features)"
      ],
      "metadata": {
        "colab": {
          "base_uri": "https://localhost:8080/"
        },
        "id": "jCecCeL4aU73",
        "outputId": "580bc288-6b4a-4c98-c0c1-12c86e900fd7"
      },
      "execution_count": 6,
      "outputs": [
        {
          "output_type": "execute_result",
          "data": {
            "text/plain": [
              "tensor([[-0.2036],\n",
              "        [-0.2300]], grad_fn=<AddmmBackward0>)"
            ]
          },
          "metadata": {},
          "execution_count": 6
        }
      ]
    },
    {
      "cell_type": "code",
      "source": [
        "features.device"
      ],
      "metadata": {
        "colab": {
          "base_uri": "https://localhost:8080/"
        },
        "id": "I5snCJk4bUXd",
        "outputId": "357ea6fb-c899-48de-bf0f-756c82f4c2b2"
      },
      "execution_count": 7,
      "outputs": [
        {
          "output_type": "execute_result",
          "data": {
            "text/plain": [
              "device(type='cpu')"
            ]
          },
          "metadata": {},
          "execution_count": 7
        }
      ]
    },
    {
      "cell_type": "markdown",
      "source": [
        "### Using Sequential"
      ],
      "metadata": {
        "id": "PfkUkWgkbtc8"
      }
    },
    {
      "cell_type": "code",
      "source": [
        "class Model2(nn.Module):\n",
        "\n",
        "    def __init__(self):\n",
        "        super().__init__()\n",
        "        # in init we define the layers!\n",
        "        # for each layer: input, output\n",
        "        self.base = nn.Sequential(\n",
        "            nn.Linear(128,32),\n",
        "            nn.Linear(32,16),\n",
        "            nn.Linear(16,1)\n",
        "        )\n",
        "\n",
        "    def forward(self, features): \n",
        "\n",
        "        x = self.base(features)\n",
        "        return x"
      ],
      "metadata": {
        "id": "-LITnu_wbqdA"
      },
      "execution_count": 8,
      "outputs": []
    },
    {
      "cell_type": "markdown",
      "source": [
        "## Activations\n",
        "\n",
        "- ReLU\n",
        "- Leaky ReLU\n",
        "- Sigmoid\n",
        "- Tanh\n",
        "- Sigmoid"
      ],
      "metadata": {
        "id": "L2ihF9uwcJdG"
      }
    },
    {
      "cell_type": "markdown",
      "source": [
        "## Loss Functions\n",
        "\n",
        "- MSELoss\n",
        "- CrossEntropyLoss\n",
        "- NLLLoss\n",
        "- BCELoss\n",
        "- BCEWithLogitsLoss"
      ],
      "metadata": {
        "id": "lXAGjK3_cPnP"
      }
    }
  ]
}