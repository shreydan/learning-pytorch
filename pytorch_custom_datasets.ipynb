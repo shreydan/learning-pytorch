{
  "nbformat": 4,
  "nbformat_minor": 0,
  "metadata": {
    "colab": {
      "name": "pytorch_custom_datasets.ipynb",
      "provenance": [],
      "authorship_tag": "ABX9TyMxLHounaYgimuTQpWFnUNb"
    },
    "kernelspec": {
      "name": "python3",
      "display_name": "Python 3"
    },
    "language_info": {
      "name": "python"
    }
  },
  "cells": [
    {
      "cell_type": "markdown",
      "source": [
        "# Pytorch custom dataset class\n",
        "\n",
        "https://pytorch.org/tutorials/beginner/data_loading_tutorial.html\n",
        "\n",
        "https://www.youtube.com/watch?v=oWq6aVv5mC8&list=PL98nY_tJQXZln8spB5uTZdKN08mYGkOf2&index=3\n",
        "\n",
        "Why we need one?\n",
        "\n",
        "- easy to access dataset values\n",
        "- easy to batch\n",
        "- easy to apply transformations\n",
        "- easy to read; etc. etc."
      ],
      "metadata": {
        "id": "4l5Kgmonsp0a"
      }
    },
    {
      "cell_type": "markdown",
      "source": [
        "# for tabular data"
      ],
      "metadata": {
        "id": "5qb2P2E4zO52"
      }
    },
    {
      "cell_type": "code",
      "execution_count": null,
      "metadata": {
        "id": "2YhBEoIasLT2"
      },
      "outputs": [],
      "source": [
        "import torch"
      ]
    },
    {
      "cell_type": "code",
      "source": [
        "class CustomDataset:\n",
        "\n",
        "    def __init__(self, data, targets):\n",
        "        self.data = data\n",
        "        self.targets = targets\n",
        "\n",
        "    def __len__(self): # returns no. of samples\n",
        "        return self.data.shape[0]\n",
        "\n",
        "    def __getitem__(self, idx):\n",
        "        sample = self.data[idx, :] # 2D array\n",
        "        target = self.targets[idx]\n",
        "\n",
        "        return {\n",
        "            \"sample\": torch.tensor(sample, dtype=torch.float),\n",
        "            \"target\": torch.tensor(target, dtype=torch.long)\n",
        "        }"
      ],
      "metadata": {
        "id": "nM58Ruq5uUAy"
      },
      "execution_count": null,
      "outputs": []
    },
    {
      "cell_type": "code",
      "source": [
        "# using sklearn.datasets to convert a dataset to custom dataset for pytorch\n",
        "\n",
        "from sklearn.datasets import make_classification\n",
        "data, targets = make_classification(n_samples=800)\n",
        "data.shape, targets.shape"
      ],
      "metadata": {
        "colab": {
          "base_uri": "https://localhost:8080/"
        },
        "id": "kH5QyaYvvPQz",
        "outputId": "761e8ca2-bf0c-45dd-95cc-48580998e4bc"
      },
      "execution_count": null,
      "outputs": [
        {
          "output_type": "execute_result",
          "data": {
            "text/plain": [
              "((800, 20), (800,))"
            ]
          },
          "metadata": {},
          "execution_count": 27
        }
      ]
    },
    {
      "cell_type": "code",
      "source": [
        "my_dataset = CustomDataset(data=data, targets = targets)"
      ],
      "metadata": {
        "id": "Gq4G6oqQvhqP"
      },
      "execution_count": null,
      "outputs": []
    },
    {
      "cell_type": "code",
      "source": [
        "# getting length\n",
        "\n",
        "len(my_dataset)"
      ],
      "metadata": {
        "colab": {
          "base_uri": "https://localhost:8080/"
        },
        "id": "DGoTHBK0vn7M",
        "outputId": "c089d150-35a3-4a09-8bf3-9a4766b5c3b4"
      },
      "execution_count": null,
      "outputs": [
        {
          "output_type": "execute_result",
          "data": {
            "text/plain": [
              "800"
            ]
          },
          "metadata": {},
          "execution_count": 29
        }
      ]
    },
    {
      "cell_type": "code",
      "source": [
        "# getting a single sample\n",
        "\n",
        "my_dataset[0]"
      ],
      "metadata": {
        "colab": {
          "base_uri": "https://localhost:8080/"
        },
        "id": "XiGnQkF8v0aB",
        "outputId": "3b2c7a3d-b5e8-4ebd-9598-38010e7079ff"
      },
      "execution_count": null,
      "outputs": [
        {
          "output_type": "execute_result",
          "data": {
            "text/plain": [
              "{'sample': tensor([ 1.3503,  0.8401,  1.0510, -1.1730, -1.7619,  0.2561,  0.5544, -1.1724,\n",
              "          1.4327,  0.8183,  0.4204,  0.8143, -0.9895,  0.5636,  1.0187,  1.3005,\n",
              "         -0.1188, -0.5897,  0.4319, -0.6092]), 'target': tensor(0)}"
            ]
          },
          "metadata": {},
          "execution_count": 30
        }
      ]
    },
    {
      "cell_type": "code",
      "source": [
        "# for indexing convert to tensor and then index...for speed"
      ],
      "metadata": {
        "id": "Rs2Ii1sEwEFF"
      },
      "execution_count": null,
      "outputs": []
    },
    {
      "cell_type": "code",
      "source": [
        "for i in range(3):\n",
        "    print(my_dataset[i])"
      ],
      "metadata": {
        "colab": {
          "base_uri": "https://localhost:8080/"
        },
        "id": "NLx-1IDqyl1M",
        "outputId": "53b1b304-ca76-4192-bf25-b65a7922acd0"
      },
      "execution_count": null,
      "outputs": [
        {
          "output_type": "stream",
          "name": "stdout",
          "text": [
            "{'sample': tensor([ 1.3503,  0.8401,  1.0510, -1.1730, -1.7619,  0.2561,  0.5544, -1.1724,\n",
            "         1.4327,  0.8183,  0.4204,  0.8143, -0.9895,  0.5636,  1.0187,  1.3005,\n",
            "        -0.1188, -0.5897,  0.4319, -0.6092]), 'target': tensor(0)}\n",
            "{'sample': tensor([ 0.3977,  1.5995,  0.3835,  1.8373, -0.0302, -0.1476, -1.4509, -0.3353,\n",
            "        -0.6139,  0.1969,  0.0725, -2.1643, -0.7953, -1.4174, -0.8418,  0.4276,\n",
            "        -0.8497, -1.0180, -1.0387, -1.8173]), 'target': tensor(1)}\n",
            "{'sample': tensor([ 0.6842, -0.7820,  0.6804, -2.0236, -0.0048, -0.6655, -0.0208,  0.6825,\n",
            "         4.0973,  0.0487,  0.2305,  0.5186,  0.4740,  1.1554, -0.2019, -1.2453,\n",
            "        -0.2971, -2.9534,  1.9299,  0.2426]), 'target': tensor(0)}\n"
          ]
        }
      ]
    }
  ]
}