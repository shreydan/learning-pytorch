{
  "nbformat": 4,
  "nbformat_minor": 0,
  "metadata": {
    "colab": {
      "name": "pytorch_autograd.ipynb",
      "provenance": [],
      "authorship_tag": "ABX9TyNwtBjsuExuyugnL4QZbQaC"
    },
    "kernelspec": {
      "name": "python3",
      "display_name": "Python 3"
    },
    "language_info": {
      "name": "python"
    }
  },
  "cells": [
    {
      "cell_type": "markdown",
      "source": [
        "# **Autograd**\n",
        "\n",
        "- differentiation engine"
      ],
      "metadata": {
        "id": "c06SzSb6Ul6p"
      }
    },
    {
      "cell_type": "code",
      "execution_count": 1,
      "metadata": {
        "id": "vkfDJ65uT5jG"
      },
      "outputs": [],
      "source": [
        "import torch"
      ]
    },
    {
      "cell_type": "code",
      "source": [
        "# defining variables in a equation\n",
        "\n",
        "a = torch.tensor([10.], requires_grad=True)\n",
        "b = torch.tensor([7.], requires_grad=True)"
      ],
      "metadata": {
        "id": "uUFnS1uPUx7D"
      },
      "execution_count": 2,
      "outputs": []
    },
    {
      "cell_type": "code",
      "source": [
        "# equation\n",
        "\n",
        "y = a**4 + b**2"
      ],
      "metadata": {
        "id": "b0Um92dyU_Vm"
      },
      "execution_count": 3,
      "outputs": []
    },
    {
      "cell_type": "markdown",
      "source": [
        "del y/ del a =  4*a**3 = 4000\n",
        "\n",
        "del y/ del b = 2*b = 14\n",
        "\n"
      ],
      "metadata": {
        "id": "S-rwVjQFVGve"
      }
    },
    {
      "cell_type": "code",
      "source": [
        "print(a.grad)"
      ],
      "metadata": {
        "colab": {
          "base_uri": "https://localhost:8080/"
        },
        "id": "C0dXw3DgVFZD",
        "outputId": "093333d1-a7a7-4bf3-8299-cae39dce024e"
      },
      "execution_count": 6,
      "outputs": [
        {
          "output_type": "stream",
          "name": "stdout",
          "text": [
            "None\n"
          ]
        }
      ]
    },
    {
      "cell_type": "code",
      "source": [
        "print(b.grad)"
      ],
      "metadata": {
        "colab": {
          "base_uri": "https://localhost:8080/"
        },
        "id": "_Qu-c4gqVe0y",
        "outputId": "2438dbe9-ddb1-496f-edd0-5d7a8405dee3"
      },
      "execution_count": 7,
      "outputs": [
        {
          "output_type": "stream",
          "name": "stdout",
          "text": [
            "None\n"
          ]
        }
      ]
    },
    {
      "cell_type": "code",
      "source": [
        "# None above since no differentiation performed yet\n",
        "\n",
        "y.backward() # calculate gradients for each variable with requires_grad = True"
      ],
      "metadata": {
        "id": "CoBV2TxUVk2n"
      },
      "execution_count": 8,
      "outputs": []
    },
    {
      "cell_type": "code",
      "source": [
        "print(a.grad, b.grad)"
      ],
      "metadata": {
        "colab": {
          "base_uri": "https://localhost:8080/"
        },
        "id": "s-Yy8YaKVsrG",
        "outputId": "e34f2c3b-b11e-482d-bbdd-0337e167a150"
      },
      "execution_count": 9,
      "outputs": [
        {
          "output_type": "stream",
          "name": "stdout",
          "text": [
            "tensor([4000.]) tensor([14.])\n"
          ]
        }
      ]
    },
    {
      "cell_type": "code",
      "source": [
        "# yep perfect "
      ],
      "metadata": {
        "id": "-pbzYPJRVz1W"
      },
      "execution_count": null,
      "outputs": []
    },
    {
      "cell_type": "code",
      "source": [
        "# updating a and b\n",
        "\n",
        "a = a.grad.data\n",
        "b = b.grad.data"
      ],
      "metadata": {
        "id": "tdXBQLncWRru"
      },
      "execution_count": 10,
      "outputs": []
    },
    {
      "cell_type": "code",
      "source": [
        "print(a,b)"
      ],
      "metadata": {
        "colab": {
          "base_uri": "https://localhost:8080/"
        },
        "id": "mqEXxho3WXyh",
        "outputId": "2d035e4d-b698-4115-cbf9-bd4134e11751"
      },
      "execution_count": 11,
      "outputs": [
        {
          "output_type": "stream",
          "name": "stdout",
          "text": [
            "tensor([4000.]) tensor([14.])\n"
          ]
        }
      ]
    },
    {
      "cell_type": "markdown",
      "source": [
        "in training for each iteration, we clear the gradients set to zero/None and then calculated, updated"
      ],
      "metadata": {
        "id": "J3Vah6_MWfDO"
      }
    }
  ]
}