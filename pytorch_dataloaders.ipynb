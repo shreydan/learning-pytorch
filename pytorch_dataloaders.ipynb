{
  "nbformat": 4,
  "nbformat_minor": 0,
  "metadata": {
    "colab": {
      "name": "pytorch_dataloaders.ipynb",
      "provenance": [],
      "authorship_tag": "ABX9TyPeAAL2UQANa42847u+0Lfc"
    },
    "kernelspec": {
      "name": "python3",
      "display_name": "Python 3"
    },
    "language_info": {
      "name": "python"
    }
  },
  "cells": [
    {
      "cell_type": "markdown",
      "source": [
        "# **Dataloaders**\n",
        "\n",
        "- provides data to model\n",
        "- in batches"
      ],
      "metadata": {
        "id": "m0EqHQkWPfNM"
      }
    },
    {
      "cell_type": "code",
      "execution_count": 1,
      "metadata": {
        "id": "Hvu61KlQPZRB"
      },
      "outputs": [],
      "source": [
        "import torch"
      ]
    },
    {
      "cell_type": "code",
      "source": [
        "# generated data\n",
        "\n",
        "from sklearn.datasets import make_classification\n",
        "\n",
        "X, y = make_classification(n_samples=1000)"
      ],
      "metadata": {
        "id": "dzjB0L-0Pm3H"
      },
      "execution_count": 2,
      "outputs": []
    },
    {
      "cell_type": "code",
      "source": [
        "class CustomDataset:\n",
        "\n",
        "    def __init__(self, data, targets):\n",
        "        self.data = data\n",
        "        self.targets = targets\n",
        "\n",
        "    def __len__(self):\n",
        "        return self.data.shape[0]\n",
        "\n",
        "    def __getitem__(self, i):\n",
        "        sample = self.data[i]\n",
        "        target = self.targets[i]\n",
        "\n",
        "        # target dtype:\n",
        "        ## long: classification\n",
        "        ## float: regression\n",
        "\n",
        "        return {\n",
        "            'sample' : torch.tensor(sample, dtype=torch.float),\n",
        "            'target' : torch.tensor(target, dtype=torch.long)\n",
        "        }"
      ],
      "metadata": {
        "id": "EK4gzsFuP2uY"
      },
      "execution_count": 3,
      "outputs": []
    },
    {
      "cell_type": "code",
      "source": [
        "dataset = CustomDataset(X,y)"
      ],
      "metadata": {
        "id": "tbkMhBycQhBV"
      },
      "execution_count": 4,
      "outputs": []
    },
    {
      "cell_type": "code",
      "source": [
        "len(dataset)"
      ],
      "metadata": {
        "colab": {
          "base_uri": "https://localhost:8080/"
        },
        "id": "agnm9Z5LQpG4",
        "outputId": "fcd1c750-0038-4f02-b9a4-e2eb3d7c0a3f"
      },
      "execution_count": 5,
      "outputs": [
        {
          "output_type": "execute_result",
          "data": {
            "text/plain": [
              "1000"
            ]
          },
          "metadata": {},
          "execution_count": 5
        }
      ]
    },
    {
      "cell_type": "code",
      "source": [
        "dataset[9]"
      ],
      "metadata": {
        "colab": {
          "base_uri": "https://localhost:8080/"
        },
        "id": "bwyMZmgERFho",
        "outputId": "e88a4c0a-dc20-4783-866f-42a62e300eb3"
      },
      "execution_count": 6,
      "outputs": [
        {
          "output_type": "execute_result",
          "data": {
            "text/plain": [
              "{'sample': tensor([ 1.8621,  0.7880, -0.7487, -1.2007,  0.4720,  0.5668, -0.9819, -0.2373,\n",
              "         -1.0462, -0.5145, -0.0193, -1.1190, -0.4362,  0.2177, -1.2890, -0.1351,\n",
              "         -2.1009, -0.4279, -0.7694, -1.4855]), 'target': tensor(0)}"
            ]
          },
          "metadata": {},
          "execution_count": 6
        }
      ]
    },
    {
      "cell_type": "code",
      "source": [
        "# dataloader class\n",
        "?torch.utils.data.DataLoader"
      ],
      "metadata": {
        "id": "oZ5EZtsfRjpX"
      },
      "execution_count": 7,
      "outputs": []
    },
    {
      "cell_type": "code",
      "source": [
        "train_loader = torch.utils.data.DataLoader(\n",
        "    dataset = dataset,\n",
        "    batch_size = 4,\n",
        "    shuffle = True,\n",
        "    num_workers=2\n",
        ")"
      ],
      "metadata": {
        "id": "MmYeP36GRITv"
      },
      "execution_count": 29,
      "outputs": []
    },
    {
      "cell_type": "code",
      "source": [
        "# is a generator\n",
        "train_loader"
      ],
      "metadata": {
        "colab": {
          "base_uri": "https://localhost:8080/"
        },
        "id": "vyMX3PQ1RrNZ",
        "outputId": "960c4b5a-dc78-4313-fe5b-2c8a23b2e13c"
      },
      "execution_count": 30,
      "outputs": [
        {
          "output_type": "execute_result",
          "data": {
            "text/plain": [
              "<torch.utils.data.dataloader.DataLoader at 0x7f41f305c590>"
            ]
          },
          "metadata": {},
          "execution_count": 30
        }
      ]
    },
    {
      "cell_type": "code",
      "source": [
        "len(train_loader) # 1000 samples with 4 batch size hence 250 batches :)"
      ],
      "metadata": {
        "colab": {
          "base_uri": "https://localhost:8080/"
        },
        "id": "hfzZGIzHUbSE",
        "outputId": "7b010612-6230-4140-e206-8d69c64785fc"
      },
      "execution_count": 35,
      "outputs": [
        {
          "output_type": "execute_result",
          "data": {
            "text/plain": [
              "250"
            ]
          },
          "metadata": {},
          "execution_count": 35
        }
      ]
    },
    {
      "cell_type": "code",
      "source": [
        "# each iter will be of samples: batch x features, targets: batch x targets\n",
        "next(iter(train_loader))"
      ],
      "metadata": {
        "colab": {
          "base_uri": "https://localhost:8080/"
        },
        "id": "MAqpFggGR2tJ",
        "outputId": "c1f64dcd-63c0-4dca-fb93-e0adc8417c18"
      },
      "execution_count": 33,
      "outputs": [
        {
          "output_type": "execute_result",
          "data": {
            "text/plain": [
              "{'sample': tensor([[ 2.0997,  0.2111,  1.8036, -1.3238, -0.5278,  0.2214, -1.7801, -0.7269,\n",
              "           0.3412, -0.5125, -1.9458, -0.2825, -0.4426,  0.1222, -0.7817,  0.3509,\n",
              "          -0.5815,  0.7762,  1.1726, -0.0794],\n",
              "         [-0.0805, -1.8581, -1.5994, -0.1696,  0.1292,  1.1406, -0.9438, -0.7100,\n",
              "          -0.6918, -0.4428, -0.6667, -0.1050,  0.7883, -0.6043, -0.3263, -0.7439,\n",
              "          -0.2499, -0.2531, -0.4534, -0.7421],\n",
              "         [ 1.3136, -1.0292,  1.2672,  0.8759,  0.6166, -0.0388,  0.9167,  1.0243,\n",
              "           0.6572,  0.8138,  0.6286,  0.6688, -0.4730,  1.1911,  1.5173, -0.7741,\n",
              "           1.3233, -0.2294,  0.5921, -0.0631],\n",
              "         [ 0.2041, -0.4118, -0.3193, -0.3659, -0.1403, -1.4606,  1.0421,  1.0871,\n",
              "           0.0341,  0.7892,  0.5120,  0.4898, -0.6946,  1.6081,  1.0357,  0.3273,\n",
              "           0.9948, -1.0289,  1.3176,  0.1646]]),\n",
              " 'target': tensor([0, 0, 1, 1])}"
            ]
          },
          "metadata": {},
          "execution_count": 33
        }
      ]
    }
  ]
}