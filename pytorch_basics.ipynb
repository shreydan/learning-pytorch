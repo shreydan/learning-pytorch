{
  "nbformat": 4,
  "nbformat_minor": 0,
  "metadata": {
    "colab": {
      "name": "pytorch_basics.ipynb",
      "provenance": [],
      "collapsed_sections": [],
      "authorship_tag": "ABX9TyOFF3VPnKXc8dqmZ4qpbFR1",
      "include_colab_link": true
    },
    "kernelspec": {
      "name": "python3",
      "display_name": "Python 3"
    },
    "language_info": {
      "name": "python"
    }
  },
  "cells": [
    {
      "cell_type": "markdown",
      "metadata": {
        "id": "view-in-github",
        "colab_type": "text"
      },
      "source": [
        "<a href=\"https://colab.research.google.com/github/shreydan/ML-practice/blob/main/pytorch_basics.ipynb\" target=\"_parent\"><img src=\"https://colab.research.google.com/assets/colab-badge.svg\" alt=\"Open In Colab\"/></a>"
      ]
    },
    {
      "cell_type": "markdown",
      "source": [
        "# ***PYTORCH***\n",
        "\n",
        "- [tensors](https://pytorch.org/tutorials/beginner/basics/tensorqs_tutorial.html)\n"
      ],
      "metadata": {
        "id": "hoUT_Bqk0ryS"
      }
    },
    {
      "cell_type": "code",
      "execution_count": 1,
      "metadata": {
        "colab": {
          "base_uri": "https://localhost:8080/",
          "height": 35
        },
        "id": "-2EjCqLMywXW",
        "outputId": "f5df5628-af71-4357-bbeb-ecfc761cf2d3"
      },
      "outputs": [
        {
          "output_type": "execute_result",
          "data": {
            "application/vnd.google.colaboratory.intrinsic+json": {
              "type": "string"
            },
            "text/plain": [
              "'cpu'"
            ]
          },
          "metadata": {},
          "execution_count": 1
        }
      ],
      "source": [
        "import torch\n",
        "\n",
        "device = 'cuda' if torch.cuda.is_available() else 'cpu'\n",
        "device"
      ]
    },
    {
      "cell_type": "code",
      "source": [
        "x = torch.tensor([[1,2],[3,4]])\n",
        "rx, cx = x.shape # or x.size()\n",
        "rx,cx"
      ],
      "metadata": {
        "colab": {
          "base_uri": "https://localhost:8080/"
        },
        "id": "nm9vYX0k0Fsx",
        "outputId": "dfed475d-8ac4-43f6-b066-c3aef8a97ca0"
      },
      "execution_count": 2,
      "outputs": [
        {
          "output_type": "execute_result",
          "data": {
            "text/plain": [
              "(2, 2)"
            ]
          },
          "metadata": {},
          "execution_count": 2
        }
      ]
    },
    {
      "cell_type": "code",
      "source": [
        "ol = torch.ones_like(x)\n",
        "print(ol, ol.dtype)"
      ],
      "metadata": {
        "colab": {
          "base_uri": "https://localhost:8080/"
        },
        "id": "-kIzpjSC0x4m",
        "outputId": "c2ac3491-3ed0-4318-d671-1e2fb4a4ac52"
      },
      "execution_count": 3,
      "outputs": [
        {
          "output_type": "stream",
          "name": "stdout",
          "text": [
            "tensor([[1, 1],\n",
            "        [1, 1]]) torch.int64\n"
          ]
        }
      ]
    },
    {
      "cell_type": "code",
      "source": [
        "rl = torch.rand_like(x, dtype=torch.float) # gotta mention dtype\n",
        "rl"
      ],
      "metadata": {
        "colab": {
          "base_uri": "https://localhost:8080/"
        },
        "id": "jD0Dm9ri035c",
        "outputId": "4f361c2b-93d5-4222-d335-a2abe9559206"
      },
      "execution_count": 4,
      "outputs": [
        {
          "output_type": "execute_result",
          "data": {
            "text/plain": [
              "tensor([[0.0727, 0.1420],\n",
              "        [0.1377, 0.2730]])"
            ]
          },
          "metadata": {},
          "execution_count": 4
        }
      ]
    },
    {
      "cell_type": "code",
      "source": [
        "# in numpy you pass shape= in torch its size=\n",
        "print(torch.ones(size=(3,4)))\n",
        "\n",
        "rand_vals = torch.rand(size=(8,1))\n",
        "print(rand_vals, rand_vals.shape)\n",
        "\n",
        "# (8,1): matrix, (8,): vector\n",
        "\n",
        "print(torch.zeros(size=(5,)))"
      ],
      "metadata": {
        "colab": {
          "base_uri": "https://localhost:8080/"
        },
        "id": "GwD9MhTx1Xvb",
        "outputId": "f309b705-79c1-470d-cb99-3014914e8037"
      },
      "execution_count": 5,
      "outputs": [
        {
          "output_type": "stream",
          "name": "stdout",
          "text": [
            "tensor([[1., 1., 1., 1.],\n",
            "        [1., 1., 1., 1.],\n",
            "        [1., 1., 1., 1.]])\n",
            "tensor([[0.6005],\n",
            "        [0.9347],\n",
            "        [0.0226],\n",
            "        [0.8921],\n",
            "        [0.6963],\n",
            "        [0.6130],\n",
            "        [0.7409],\n",
            "        [0.4333]]) torch.Size([8, 1])\n",
            "tensor([0., 0., 0., 0., 0.])\n"
          ]
        }
      ]
    },
    {
      "cell_type": "code",
      "source": [
        "# indexing, slicing -- same as numpy\n",
        "\n",
        "t = torch.rand(size=(4,3))\n",
        "print(t)\n",
        "print(t[3]) # row 4 of 0,1,2,3\n",
        "# print(t[4]) error duh\n",
        "print(t[:,1]) # col 1 of 0,1,2"
      ],
      "metadata": {
        "colab": {
          "base_uri": "https://localhost:8080/"
        },
        "id": "LXdkFLDC3UnX",
        "outputId": "6a5de89c-6234-44b5-a720-15a75eab36cb"
      },
      "execution_count": 6,
      "outputs": [
        {
          "output_type": "stream",
          "name": "stdout",
          "text": [
            "tensor([[0.1941, 0.9173, 0.8815],\n",
            "        [0.0615, 0.4072, 0.6035],\n",
            "        [0.6153, 0.8896, 0.4834],\n",
            "        [0.9928, 0.1606, 0.6645]])\n",
            "tensor([0.9928, 0.1606, 0.6645])\n",
            "tensor([0.9173, 0.4072, 0.8896, 0.1606])\n"
          ]
        }
      ]
    },
    {
      "cell_type": "markdown",
      "source": [
        "todo\n",
        "\n",
        "- cat\n",
        "- stack"
      ],
      "metadata": {
        "id": "su7PoXfe4WMt"
      }
    },
    {
      "cell_type": "code",
      "source": [
        "# joining - cat\n",
        "\n",
        "t1 = torch.rand((2,3))\n",
        "t2 = torch.rand((2,3))\n",
        "t3 = torch.rand((2,3))\n",
        "\n",
        "# wouldnt work, sizes should match\n",
        "t4 = torch.rand((3,2))\n",
        "\n",
        "# concats by rows\n",
        "t_cat = torch.cat([t1,t2,t3])\n",
        "\n",
        "# concats by cols\n",
        "t_cat_d1 = torch.cat([t1,t2,t3], dim=1)\n",
        "\n",
        "# .cat default dim = 0\n",
        "\n",
        "t_stack_d0 = torch.stack([t1,t2,t3])\n",
        "t_stack_d1 = torch.stack([t1,t2,t3], dim=1)\n",
        "\n",
        "print(t1, '\\n', t1.shape, '\\n')\n",
        "print(t2, '\\n', t2.shape, '\\n')\n",
        "print(t3, '\\n', t3.shape, '\\n')\n",
        "\n",
        "print(\"\\nCAT\\n\")\n",
        "print(t_cat, '\\n', t_cat.shape, '\\n')\n",
        "print(t_cat_d1, '\\n', t_cat_d1.shape, '\\n')\n",
        "\n",
        "print(\"\\nSTACK\\n\")\n",
        "print(t_stack_d0, '\\n', t_stack_d0.shape, '\\n')\n",
        "print(t_stack_d1, '\\n', t_stack_d1.shape, '\\n')"
      ],
      "metadata": {
        "colab": {
          "base_uri": "https://localhost:8080/"
        },
        "id": "gI5uL1RwkZFd",
        "outputId": "9a9a5173-16e3-479c-830b-ad9123e87ca3"
      },
      "execution_count": 22,
      "outputs": [
        {
          "output_type": "stream",
          "name": "stdout",
          "text": [
            "tensor([[0.3840, 0.9724, 0.3782],\n",
            "        [0.7397, 0.8844, 0.2944]]) \n",
            " torch.Size([2, 3]) \n",
            "\n",
            "tensor([[0.5219, 0.4519, 0.0628],\n",
            "        [0.7239, 0.0745, 0.1342]]) \n",
            " torch.Size([2, 3]) \n",
            "\n",
            "tensor([[0.4060, 0.5716, 0.4560],\n",
            "        [0.0442, 0.5191, 0.5442]]) \n",
            " torch.Size([2, 3]) \n",
            "\n",
            "\n",
            "CAT\n",
            "\n",
            "tensor([[0.3840, 0.9724, 0.3782],\n",
            "        [0.7397, 0.8844, 0.2944],\n",
            "        [0.5219, 0.4519, 0.0628],\n",
            "        [0.7239, 0.0745, 0.1342],\n",
            "        [0.4060, 0.5716, 0.4560],\n",
            "        [0.0442, 0.5191, 0.5442]]) \n",
            " torch.Size([6, 3]) \n",
            "\n",
            "tensor([[0.3840, 0.9724, 0.3782, 0.5219, 0.4519, 0.0628, 0.4060, 0.5716, 0.4560],\n",
            "        [0.7397, 0.8844, 0.2944, 0.7239, 0.0745, 0.1342, 0.0442, 0.5191, 0.5442]]) \n",
            " torch.Size([2, 9]) \n",
            "\n",
            "\n",
            "STACK\n",
            "\n",
            "tensor([[[0.3840, 0.9724, 0.3782],\n",
            "         [0.7397, 0.8844, 0.2944]],\n",
            "\n",
            "        [[0.5219, 0.4519, 0.0628],\n",
            "         [0.7239, 0.0745, 0.1342]],\n",
            "\n",
            "        [[0.4060, 0.5716, 0.4560],\n",
            "         [0.0442, 0.5191, 0.5442]]]) \n",
            " torch.Size([3, 2, 3]) \n",
            "\n",
            "tensor([[[0.3840, 0.9724, 0.3782],\n",
            "         [0.5219, 0.4519, 0.0628],\n",
            "         [0.4060, 0.5716, 0.4560]],\n",
            "\n",
            "        [[0.7397, 0.8844, 0.2944],\n",
            "         [0.7239, 0.0745, 0.1342],\n",
            "         [0.0442, 0.5191, 0.5442]]]) \n",
            " torch.Size([2, 3, 3]) \n",
            "\n"
          ]
        }
      ]
    },
    {
      "cell_type": "markdown",
      "source": [
        "#### arithmetic operations"
      ],
      "metadata": {
        "id": "M7zuERpCmClK"
      }
    },
    {
      "cell_type": "code",
      "source": [
        "t1 = torch.ones((2,2))\n",
        "t2 = torch.ones((2,2))\n",
        "\n",
        "# matmul: DOT\n",
        "print(torch.matmul(t1,t2)) # method 1\n",
        "print(t1 @ t2) # method 2\n",
        "\n",
        "\n",
        "# * : element-wise matmul\n",
        "print(torch.mul(t1,t2)) # method 1\n",
        "print(t1 * t2) # method 2\n",
        "\n",
        "\n",
        "# sum\n",
        "print(t1+t2)\n",
        "# NOTE: torch.sum() returns sum of elements\n",
        "\n",
        "# item, returns python float\n",
        "print((t1+t2).sum().item())"
      ],
      "metadata": {
        "colab": {
          "base_uri": "https://localhost:8080/"
        },
        "id": "-A4dx9lUmEl5",
        "outputId": "47c1b266-1aba-4581-b538-84b532857eb8"
      },
      "execution_count": 28,
      "outputs": [
        {
          "output_type": "stream",
          "name": "stdout",
          "text": [
            "tensor([[2., 2.],\n",
            "        [2., 2.]])\n",
            "tensor([[2., 2.],\n",
            "        [2., 2.]])\n",
            "tensor([[1., 1.],\n",
            "        [1., 1.]])\n",
            "tensor([[1., 1.],\n",
            "        [1., 1.]])\n",
            "tensor([[2., 2.],\n",
            "        [2., 2.]])\n",
            "8.0\n"
          ]
        }
      ]
    },
    {
      "cell_type": "code",
      "source": [
        "# in_place operations:\n",
        "\n",
        "t = torch.rand((3,4))\n",
        "print(t.t()) # does transpose or t.T\n",
        "print(t) # but .t() doesn't modify t\n",
        "\n",
        "# adding _ suffix changes operand i.e. t\n",
        "print(t.t_())\n",
        "print(t)"
      ],
      "metadata": {
        "colab": {
          "base_uri": "https://localhost:8080/"
        },
        "id": "miAXWsgIr51C",
        "outputId": "efb65102-d7ab-4384-c459-cfe564b7a7ed"
      },
      "execution_count": 36,
      "outputs": [
        {
          "output_type": "stream",
          "name": "stdout",
          "text": [
            "tensor([[0.6085, 0.9721, 0.6715],\n",
            "        [0.2306, 0.7136, 0.7996],\n",
            "        [0.1375, 0.5520, 0.6026],\n",
            "        [0.9126, 0.9229, 0.3367]])\n",
            "tensor([[0.6085, 0.2306, 0.1375, 0.9126],\n",
            "        [0.9721, 0.7136, 0.5520, 0.9229],\n",
            "        [0.6715, 0.7996, 0.6026, 0.3367]])\n",
            "tensor([[0.6085, 0.9721, 0.6715],\n",
            "        [0.2306, 0.7136, 0.7996],\n",
            "        [0.1375, 0.5520, 0.6026],\n",
            "        [0.9126, 0.9229, 0.3367]])\n",
            "tensor([[0.6085, 0.9721, 0.6715],\n",
            "        [0.2306, 0.7136, 0.7996],\n",
            "        [0.1375, 0.5520, 0.6026],\n",
            "        [0.9126, 0.9229, 0.3367]])\n"
          ]
        }
      ]
    },
    {
      "cell_type": "markdown",
      "source": [
        "numpy to tensor:\n",
        "\n",
        "t = torch.from_numpy(n)\n",
        "\n",
        "tensor to numpy:\n",
        "\n",
        "n = torch.numpy()"
      ],
      "metadata": {
        "id": "rLBYPSppsd8m"
      }
    }
  ]
}