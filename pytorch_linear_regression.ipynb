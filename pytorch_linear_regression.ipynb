{
  "nbformat": 4,
  "nbformat_minor": 0,
  "metadata": {
    "colab": {
      "name": "pytorch_linear_regression.ipynb",
      "provenance": [],
      "authorship_tag": "ABX9TyPq8WJx/b+JlZocPCb/GUFi"
    },
    "kernelspec": {
      "name": "python3",
      "display_name": "Python 3"
    },
    "language_info": {
      "name": "python"
    }
  },
  "cells": [
    {
      "cell_type": "code",
      "execution_count": 42,
      "metadata": {
        "id": "2sR_ZWoEW2AQ"
      },
      "outputs": [],
      "source": [
        "import torch\n",
        "from sklearn.model_selection import train_test_split\n",
        "from sklearn.datasets import make_regression"
      ]
    },
    {
      "cell_type": "code",
      "source": [
        "class RegressionDataset:\n",
        "\n",
        "    def __init__(self, data, targets):\n",
        "        self.data = data\n",
        "        self.targets = targets\n",
        "\n",
        "    def __len__(self): # returns no. of samples\n",
        "        return self.data.shape[0]\n",
        "\n",
        "    def __getitem__(self, idx):\n",
        "        sample = self.data[idx, :] # 2D array\n",
        "        target = self.targets[idx]\n",
        "\n",
        "        return {\n",
        "            \"sample\": torch.tensor(sample, dtype=torch.float),\n",
        "            \"target\": torch.tensor(target, dtype=torch.long)\n",
        "        }"
      ],
      "metadata": {
        "id": "uKQKnjuNXckY"
      },
      "execution_count": 3,
      "outputs": []
    },
    {
      "cell_type": "code",
      "source": [
        "data, targets = make_regression(n_samples = 1000)"
      ],
      "metadata": {
        "id": "qaKS5OirXfw2"
      },
      "execution_count": 43,
      "outputs": []
    },
    {
      "cell_type": "code",
      "source": [
        "X_train, X_test, y_train, y_test = train_test_split(data, targets)"
      ],
      "metadata": {
        "id": "q7sroyG_Xmng"
      },
      "execution_count": 45,
      "outputs": []
    },
    {
      "cell_type": "code",
      "source": [
        "train_dataset = RegressionDataset(X_train, y_train)\n",
        "test_dataset = RegressionDataset(X_test, y_test)"
      ],
      "metadata": {
        "id": "oEOvdmZ6X33v"
      },
      "execution_count": 46,
      "outputs": []
    },
    {
      "cell_type": "code",
      "source": [
        "train_loader = torch.utils.data.DataLoader(\n",
        "    train_dataset,\n",
        "    batch_size = 4,\n",
        "    num_workers = 2,\n",
        "    shuffle = True\n",
        ")\n",
        "\n",
        "test_loader = torch.utils.data.DataLoader(\n",
        "    test_dataset,\n",
        "    batch_size = 4,\n",
        "    num_workers = 2,\n",
        "    shuffle = True\n",
        ")"
      ],
      "metadata": {
        "id": "l-PE_sV7YEu-"
      },
      "execution_count": 47,
      "outputs": []
    },
    {
      "cell_type": "code",
      "source": [
        "def model(X,w,b):\n",
        "    return torch.matmul(X,w) + b"
      ],
      "metadata": {
        "id": "RFsATCh-YaMX"
      },
      "execution_count": 48,
      "outputs": []
    },
    {
      "cell_type": "code",
      "source": [
        "W = torch.randn(100,1, requires_grad=True) # features X 1\n",
        "b = torch.randn(1, requires_grad=True)\n",
        "\n",
        "learning_rate = 1e-3\n",
        "\n",
        "for epoch in range(25):\n",
        "    epoch_loss = 0\n",
        "    for data in train_loader:\n",
        "        x_train = data['sample']\n",
        "        y_train = data['target']\n",
        "\n",
        "        if W.grad is not None or b.grad is not None:\n",
        "            W.grad_zero_()\n",
        "            b.gard_zero_()\n",
        "\n",
        "        output = model(x_train, W, b)\n",
        "        loss = torch.mean((y_train.view(-1) - output.view(-1)) ** 2)\n",
        "        epoch_loss = epoch_loss + loss.item()\n",
        "\n",
        "        loss.backward()\n",
        "        \n",
        "        with torch.no_grad(): # temporarily disables requires_grad\n",
        "            W = W - learning_rate * W.grad\n",
        "            b = b - learning_rate * b.grad\n",
        "\n",
        "        # enable grad again for next iteration\n",
        "        W.requires_grad_(True)\n",
        "        b.requires_grad_(True)\n",
        "\n",
        "    print(f'loss at epoch {epoch+1}: {epoch_loss} and actual loss: {epoch_loss/(epoch+1)}')\n"
      ],
      "metadata": {
        "colab": {
          "base_uri": "https://localhost:8080/"
        },
        "id": "IfXLJNFZYrR2",
        "outputId": "f84d5953-a689-4349-a560-d7cf40323e06"
      },
      "execution_count": 51,
      "outputs": [
        {
          "output_type": "stream",
          "name": "stdout",
          "text": [
            "loss at epoch 1: 4269387.990112305 and actual loss: 4269387.990112305\n",
            "loss at epoch 2: 1958529.114868164 and actual loss: 979264.557434082\n",
            "loss at epoch 3: 999019.3253173828 and actual loss: 333006.44177246094\n",
            "loss at epoch 4: 548857.6106872559 and actual loss: 137214.40267181396\n",
            "loss at epoch 5: 323101.8698120117 and actual loss: 64620.373962402344\n",
            "loss at epoch 6: 194679.63706207275 and actual loss: 32446.606177012127\n",
            "loss at epoch 7: 120781.4140586853 and actual loss: 17254.487722669328\n",
            "loss at epoch 8: 77407.69997692108 and actual loss: 9675.962497115135\n",
            "loss at epoch 9: 50509.958936691284 and actual loss: 5612.217659632365\n",
            "loss at epoch 10: 33417.24080431461 and actual loss: 3341.7240804314615\n",
            "loss at epoch 11: 22383.72754383087 and actual loss: 2034.8843221664429\n",
            "loss at epoch 12: 15071.386861801147 and actual loss: 1255.9489051500957\n",
            "loss at epoch 13: 10240.390727758408 and actual loss: 787.7223636737236\n",
            "loss at epoch 14: 7005.133543014526 and actual loss: 500.36668164389476\n",
            "loss at epoch 15: 4816.238029122353 and actual loss: 321.0825352748235\n",
            "loss at epoch 16: 3357.841324567795 and actual loss: 209.86508278548717\n",
            "loss at epoch 17: 2308.522088289261 and actual loss: 135.79541695819182\n",
            "loss at epoch 18: 1611.1277370750904 and actual loss: 89.50709650417168\n",
            "loss at epoch 19: 1137.8481914401054 and actual loss: 59.88674691790029\n",
            "loss at epoch 20: 796.1539008319378 and actual loss: 39.80769504159689\n",
            "loss at epoch 21: 566.530180811882 and actual loss: 26.977627657708666\n",
            "loss at epoch 22: 405.729649245739 and actual loss: 18.442256783897225\n",
            "loss at epoch 23: 293.77807668596506 and actual loss: 12.772959855911525\n",
            "loss at epoch 24: 214.97542129829526 and actual loss: 8.957309220762303\n",
            "loss at epoch 25: 159.82670406997204 and actual loss: 6.3930681627988815\n"
          ]
        }
      ]
    },
    {
      "cell_type": "code",
      "source": [
        "W,b"
      ],
      "metadata": {
        "colab": {
          "base_uri": "https://localhost:8080/"
        },
        "id": "0rud1kKEcx2W",
        "outputId": "0d716f1d-9909-4c77-f114-86570ebf13cd"
      },
      "execution_count": 52,
      "outputs": [
        {
          "output_type": "execute_result",
          "data": {
            "text/plain": [
              "(tensor([[ 4.4965e-02],\n",
              "         [-4.9854e-02],\n",
              "         [ 2.9636e-02],\n",
              "         [-8.2208e-03],\n",
              "         [ 6.7810e-02],\n",
              "         [ 6.2622e+01],\n",
              "         [-1.6991e-01],\n",
              "         [ 7.2418e+01],\n",
              "         [ 8.0089e+01],\n",
              "         [-2.0931e-01],\n",
              "         [ 9.8876e-03],\n",
              "         [-1.2243e-01],\n",
              "         [ 1.0703e-01],\n",
              "         [ 1.2064e-01],\n",
              "         [-6.5793e-02],\n",
              "         [-6.0248e-02],\n",
              "         [ 7.1999e-03],\n",
              "         [-1.7551e-01],\n",
              "         [ 8.4554e-02],\n",
              "         [ 1.0229e-01],\n",
              "         [-1.5142e-01],\n",
              "         [ 8.6202e-02],\n",
              "         [ 8.2493e-03],\n",
              "         [-1.4008e-01],\n",
              "         [ 1.3779e-01],\n",
              "         [ 8.1896e-04],\n",
              "         [ 9.1711e-02],\n",
              "         [-1.0152e-02],\n",
              "         [ 1.7783e-01],\n",
              "         [ 8.2209e-02],\n",
              "         [ 3.7591e-02],\n",
              "         [-5.3966e-02],\n",
              "         [-1.3404e-01],\n",
              "         [ 8.3271e-02],\n",
              "         [-7.1914e-02],\n",
              "         [-1.4184e-01],\n",
              "         [ 4.6714e-02],\n",
              "         [ 2.7959e-02],\n",
              "         [ 4.5342e-02],\n",
              "         [ 8.1739e+01],\n",
              "         [-2.8486e-02],\n",
              "         [ 2.1959e-02],\n",
              "         [-1.1163e-01],\n",
              "         [-9.2106e-03],\n",
              "         [ 2.4030e-01],\n",
              "         [-8.3278e-02],\n",
              "         [-3.3933e-03],\n",
              "         [ 1.6230e-02],\n",
              "         [-1.7848e-02],\n",
              "         [-7.3486e-02],\n",
              "         [ 6.1443e-02],\n",
              "         [ 3.5913e-02],\n",
              "         [-3.0303e-02],\n",
              "         [ 5.9479e-03],\n",
              "         [ 7.6374e-02],\n",
              "         [-5.0985e-02],\n",
              "         [ 1.9925e-01],\n",
              "         [-1.4408e-02],\n",
              "         [-7.3384e-03],\n",
              "         [-4.3924e-02],\n",
              "         [ 7.2932e-02],\n",
              "         [-1.3897e-01],\n",
              "         [ 1.0220e-01],\n",
              "         [ 2.3224e-02],\n",
              "         [ 4.9171e-02],\n",
              "         [ 1.1591e-01],\n",
              "         [-1.3816e-02],\n",
              "         [-1.5934e-01],\n",
              "         [-5.3756e-02],\n",
              "         [ 1.0651e+01],\n",
              "         [ 7.3059e+01],\n",
              "         [ 1.2040e-01],\n",
              "         [-2.2795e-01],\n",
              "         [ 1.2208e-01],\n",
              "         [-2.9568e-02],\n",
              "         [-1.3278e-01],\n",
              "         [-8.3326e-02],\n",
              "         [ 7.2550e-03],\n",
              "         [ 1.0799e-01],\n",
              "         [-8.8120e-02],\n",
              "         [ 2.9743e+01],\n",
              "         [-2.3541e-01],\n",
              "         [-1.4421e-01],\n",
              "         [-6.9399e-02],\n",
              "         [ 3.9271e+01],\n",
              "         [ 7.4028e-02],\n",
              "         [-1.9769e-02],\n",
              "         [ 2.3514e-02],\n",
              "         [-4.7409e-02],\n",
              "         [-1.7495e-01],\n",
              "         [ 8.4121e-02],\n",
              "         [-1.2341e-01],\n",
              "         [ 1.2190e-01],\n",
              "         [ 4.3368e-02],\n",
              "         [ 7.4424e-02],\n",
              "         [ 4.1953e+01],\n",
              "         [ 3.1565e+01],\n",
              "         [-8.2713e-03],\n",
              "         [-7.4168e-02],\n",
              "         [-1.3118e-01]], requires_grad=True),\n",
              " tensor([0.0382], requires_grad=True))"
            ]
          },
          "metadata": {},
          "execution_count": 52
        }
      ]
    },
    {
      "cell_type": "code",
      "source": [
        "outputs = []\n",
        "labels = []\n",
        "\n",
        "with torch.no_grad():\n",
        "    for data in test_loader:\n",
        "        x_test = data['sample']\n",
        "        y_test = data['target']\n",
        "        output = model(x_test, W, b)\n",
        "        labels.append(y_test)\n",
        "        outputs.append(output)"
      ],
      "metadata": {
        "id": "UUkxDGxPaYGn"
      },
      "execution_count": 57,
      "outputs": []
    },
    {
      "cell_type": "code",
      "source": [
        "len(outputs), len(labels)"
      ],
      "metadata": {
        "colab": {
          "base_uri": "https://localhost:8080/"
        },
        "id": "AEt0rBI8eQcQ",
        "outputId": "b99f0145-e745-4342-9c85-0ebcf2dcda9e"
      },
      "execution_count": 54,
      "outputs": [
        {
          "output_type": "execute_result",
          "data": {
            "text/plain": [
              "(63, 63)"
            ]
          },
          "metadata": {},
          "execution_count": 54
        }
      ]
    },
    {
      "cell_type": "code",
      "source": [
        "from sklearn.metrics import r2_score\n",
        "\n",
        "outputs = torch.cat(outputs).view(-1)\n",
        "labels = torch.cat(labels).view(-1)\n",
        "\n",
        "print(outputs.shape, labels.shape)\n",
        "\n",
        "r2_score(\n",
        "    labels, outputs\n",
        ") # r2 score lies between 0 and 1, more the better"
      ],
      "metadata": {
        "colab": {
          "base_uri": "https://localhost:8080/"
        },
        "id": "ip2bWrITc9Aj",
        "outputId": "2d1b6e40-b1df-4bd0-f690-56ef364ce291"
      },
      "execution_count": 58,
      "outputs": [
        {
          "output_type": "stream",
          "name": "stdout",
          "text": [
            "torch.Size([250]) torch.Size([250])\n"
          ]
        },
        {
          "output_type": "execute_result",
          "data": {
            "text/plain": [
              "0.9999505360560945"
            ]
          },
          "metadata": {},
          "execution_count": 58
        }
      ]
    }
  ]
}